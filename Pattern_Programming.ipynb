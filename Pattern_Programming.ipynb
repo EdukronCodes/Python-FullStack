{
  "nbformat": 4,
  "nbformat_minor": 0,
  "metadata": {
    "colab": {
      "provenance": []
    },
    "kernelspec": {
      "name": "python3",
      "display_name": "Python 3"
    },
    "language_info": {
      "name": "python"
    }
  },
  "cells": [
    {
      "cell_type": "code",
      "source": [
        "for i in range(2,8):\n",
        "    for j in range(2,i):\n",
        "\n",
        "        print(j, end=\" \")\n",
        "    print(\"\\n\")"
      ],
      "metadata": {
        "colab": {
          "base_uri": "https://localhost:8080/"
        },
        "id": "tPxIrQxv1EY2",
        "outputId": "ff11790e-48de-49d2-8f2b-1eb7b8d04ab8"
      },
      "execution_count": null,
      "outputs": [
        {
          "output_type": "stream",
          "name": "stdout",
          "text": [
            "\n",
            "\n",
            "2 \n",
            "\n",
            "2 3 \n",
            "\n",
            "2 3 4 \n",
            "\n",
            "2 3 4 5 \n",
            "\n",
            "2 3 4 5 6 \n",
            "\n"
          ]
        }
      ]
    },
    {
      "cell_type": "code",
      "source": [
        "for i in range(71, 75):\n",
        "    for j in range(71,i):\n",
        "        print(chr(j), end=\" \")\n",
        "    print(\"\\n\")"
      ],
      "metadata": {
        "colab": {
          "base_uri": "https://localhost:8080/"
        },
        "id": "97-UHkwY1UGf",
        "outputId": "b6399ed0-0205-427a-ad45-d16904c73cb8"
      },
      "execution_count": null,
      "outputs": [
        {
          "output_type": "stream",
          "name": "stdout",
          "text": [
            "\n",
            "\n",
            "G \n",
            "\n",
            "G H \n",
            "\n",
            "G H I \n",
            "\n"
          ]
        }
      ]
    },
    {
      "cell_type": "code",
      "source": [
        "for i in range(1,5):\n",
        "    print(\"* \"*i, end=\"\\n\")"
      ],
      "metadata": {
        "colab": {
          "base_uri": "https://localhost:8080/"
        },
        "id": "jZfm_-n71UDD",
        "outputId": "5fd8e7ac-2362-48da-eba0-f64b8ed889ec"
      },
      "execution_count": null,
      "outputs": [
        {
          "output_type": "stream",
          "name": "stdout",
          "text": [
            "* \n",
            "* * \n",
            "* * * \n",
            "* * * * \n"
          ]
        }
      ]
    },
    {
      "cell_type": "code",
      "source": [
        "for i in range(3,9):\n",
        "    for j in range(0,i):\n",
        "        print(i, end=\" \")\n",
        "    print(\"\\n\")"
      ],
      "metadata": {
        "colab": {
          "base_uri": "https://localhost:8080/"
        },
        "id": "cgAvPVCj1T_u",
        "outputId": "b8d864ca-5462-4d9a-ef93-ba1f47614d65"
      },
      "execution_count": null,
      "outputs": [
        {
          "output_type": "stream",
          "name": "stdout",
          "text": [
            "3 3 3 \n",
            "\n",
            "4 4 4 4 \n",
            "\n",
            "5 5 5 5 5 \n",
            "\n",
            "6 6 6 6 6 6 \n",
            "\n",
            "7 7 7 7 7 7 7 \n",
            "\n",
            "8 8 8 8 8 8 8 8 \n",
            "\n"
          ]
        }
      ]
    },
    {
      "cell_type": "code",
      "source": [
        "x=1\n",
        "for i in range(66,73):\n",
        "  print(chr (i)*x, end=\"\\n\")\n",
        "  x=x+1\n"
      ],
      "metadata": {
        "colab": {
          "base_uri": "https://localhost:8080/"
        },
        "id": "GHjoBrAe2pfS",
        "outputId": "c6670d0b-a160-496a-ab75-8081e7581bc4"
      },
      "execution_count": null,
      "outputs": [
        {
          "output_type": "stream",
          "name": "stdout",
          "text": [
            "B\n",
            "CC\n",
            "DDD\n",
            "EEEE\n",
            "FFFFF\n",
            "GGGGGG\n",
            "HHHHHHH\n"
          ]
        }
      ]
    },
    {
      "cell_type": "code",
      "source": [
        "x=1\n",
        "for i in range(5,0,-1):\n",
        "    print(\" \"*i,x*\"*\")\n",
        "    x=x+1"
      ],
      "metadata": {
        "colab": {
          "base_uri": "https://localhost:8080/"
        },
        "id": "2bdrN7iH2pbp",
        "outputId": "15263d6d-b149-4e3b-f0b2-96493466a795"
      },
      "execution_count": null,
      "outputs": [
        {
          "output_type": "stream",
          "name": "stdout",
          "text": [
            "      *\n",
            "     **\n",
            "    ***\n",
            "   ****\n",
            "  *****\n"
          ]
        }
      ]
    },
    {
      "cell_type": "code",
      "source": [
        "for i in range(1,13,2):\n",
        "    print((i*\"*\").center(12,\" \"))"
      ],
      "metadata": {
        "colab": {
          "base_uri": "https://localhost:8080/"
        },
        "id": "n-C-UqFS2pYK",
        "outputId": "a3b4ca01-b750-4619-afef-f10dc2141e73"
      },
      "execution_count": null,
      "outputs": [
        {
          "output_type": "stream",
          "name": "stdout",
          "text": [
            "     *      \n",
            "    ***     \n",
            "   *****    \n",
            "  *******   \n",
            " *********  \n",
            "*********** \n"
          ]
        }
      ]
    },
    {
      "cell_type": "code",
      "source": [
        "s=\" \"\n",
        "for j in range(1,6):\n",
        "    s+=f\"{j}\"+\" \"\n",
        "    print(s.center(11, \" \"))\n",
        "s=\" \""
      ],
      "metadata": {
        "colab": {
          "base_uri": "https://localhost:8080/"
        },
        "id": "Bf4OZRjj_wAS",
        "outputId": "3b2057db-e55b-4a63-e2d8-14232216d23e"
      },
      "execution_count": null,
      "outputs": [
        {
          "output_type": "stream",
          "name": "stdout",
          "text": [
            "     1     \n",
            "    1 2    \n",
            "   1 2 3   \n",
            "  1 2 3 4  \n",
            " 1 2 3 4 5 \n"
          ]
        }
      ]
    },
    {
      "cell_type": "code",
      "source": [
        "s=\" \"\n",
        "for j in range(5,0,-1):\n",
        "    s+=f\"{j}\"+\" \"\n",
        "    print(s.center(11, \" \"))\n",
        "s=\" \""
      ],
      "metadata": {
        "colab": {
          "base_uri": "https://localhost:8080/"
        },
        "id": "DsGXtxLd_v8u",
        "outputId": "94feafed-a76c-4a70-cdf2-8ece9a5fdb9a"
      },
      "execution_count": null,
      "outputs": [
        {
          "output_type": "stream",
          "name": "stdout",
          "text": [
            "     5     \n",
            "    5 4    \n",
            "   5 4 3   \n",
            "  5 4 3 2  \n",
            " 5 4 3 2 1 \n"
          ]
        }
      ]
    },
    {
      "cell_type": "code",
      "source": [
        "x=\"\"\n",
        "for i in range(65,71):\n",
        "        x=x+chr(i)+\" \"\n",
        "        print(x.center(12,\" \"))\n",
        "        print(\"\\n\")"
      ],
      "metadata": {
        "colab": {
          "base_uri": "https://localhost:8080/"
        },
        "id": "QYLGJHHn__7g",
        "outputId": "5cc34f7b-8048-45b4-b898-5f4b1b917f8e"
      },
      "execution_count": null,
      "outputs": [
        {
          "output_type": "stream",
          "name": "stdout",
          "text": [
            "     A      \n",
            "\n",
            "\n",
            "    A B     \n",
            "\n",
            "\n",
            "   A B C    \n",
            "\n",
            "\n",
            "  A B C D   \n",
            "\n",
            "\n",
            " A B C D E  \n",
            "\n",
            "\n",
            "A B C D E F \n",
            "\n",
            "\n"
          ]
        }
      ]
    },
    {
      "cell_type": "code",
      "source": [
        "x=\"\"\n",
        "for i in range(70,64,-1):\n",
        "        x=x+chr(i)+\" \"\n",
        "        print(x.center(12,\" \"))\n",
        "        print(\"\\n\")"
      ],
      "metadata": {
        "colab": {
          "base_uri": "https://localhost:8080/"
        },
        "id": "ZniwgdAr__4C",
        "outputId": "b2f635bc-1eb7-4101-86bf-dcf85160ad67"
      },
      "execution_count": null,
      "outputs": [
        {
          "output_type": "stream",
          "name": "stdout",
          "text": [
            "     F      \n",
            "\n",
            "\n",
            "    F E     \n",
            "\n",
            "\n",
            "   F E D    \n",
            "\n",
            "\n",
            "  F E D C   \n",
            "\n",
            "\n",
            " F E D C B  \n",
            "\n",
            "\n",
            "F E D C B A \n",
            "\n",
            "\n"
          ]
        }
      ]
    },
    {
      "cell_type": "code",
      "source": [
        "for i in range(1,10,3):\n",
        "    str=\"*\"*i\n",
        "    print(str.center(12, \" \"))"
      ],
      "metadata": {
        "colab": {
          "base_uri": "https://localhost:8080/"
        },
        "id": "y4Yr-RT6__q-",
        "outputId": "c1d321a5-a3f3-419a-fa1f-73246d1dad47"
      },
      "execution_count": null,
      "outputs": [
        {
          "output_type": "stream",
          "name": "stdout",
          "text": [
            "     *      \n",
            "    ****    \n",
            "  *******   \n"
          ]
        }
      ]
    },
    {
      "cell_type": "code",
      "source": [
        "s=\" \"\n",
        "for i in range(1,7):\n",
        "    for j in range(1,i+1):\n",
        "        s+=f\"{i}\"+\" \"\n",
        "    print(s.center(13, \" \"))\n",
        "    s=\" \""
      ],
      "metadata": {
        "colab": {
          "base_uri": "https://localhost:8080/"
        },
        "id": "U7F2kU-yAJj9",
        "outputId": "6fd6bc45-abff-45fe-b8c1-258f408c5d69"
      },
      "execution_count": null,
      "outputs": [
        {
          "output_type": "stream",
          "name": "stdout",
          "text": [
            "      1      \n",
            "     2 2     \n",
            "    3 3 3    \n",
            "   4 4 4 4   \n",
            "  5 5 5 5 5  \n",
            " 6 6 6 6 6 6 \n"
          ]
        }
      ]
    },
    {
      "cell_type": "code",
      "source": [
        "s=\" \"\n",
        "for i in range(65,70):\n",
        "    for j in range(0,i-64):\n",
        "        s+=chr(i)+\" \"\n",
        "    print(s.center(15, \" \"))\n",
        "    s=\" \""
      ],
      "metadata": {
        "colab": {
          "base_uri": "https://localhost:8080/"
        },
        "id": "jUFBnw6yAJVd",
        "outputId": "85298b27-2560-46c4-8c8c-d188800c51ff"
      },
      "execution_count": null,
      "outputs": [
        {
          "output_type": "stream",
          "name": "stdout",
          "text": [
            "       A       \n",
            "      B B      \n",
            "     C C C     \n",
            "    D D D D    \n",
            "   E E E E E   \n"
          ]
        }
      ]
    },
    {
      "cell_type": "code",
      "source": [
        "s=\" \"\n",
        "for j in range (1,7):\n",
        "    s+=f\"{j}\"+\" \"\n",
        "    print(s.center(15,\" \"))\n",
        "s=\" \""
      ],
      "metadata": {
        "colab": {
          "base_uri": "https://localhost:8080/"
        },
        "id": "estbYuNIAQ7n",
        "outputId": "20326891-5798-4f51-9649-07d58ad74851"
      },
      "execution_count": null,
      "outputs": [
        {
          "output_type": "stream",
          "name": "stdout",
          "text": [
            "       1       \n",
            "      1 2      \n",
            "     1 2 3     \n",
            "    1 2 3 4    \n",
            "   1 2 3 4 5   \n",
            "  1 2 3 4 5 6  \n"
          ]
        }
      ]
    },
    {
      "cell_type": "code",
      "source": [
        "for i in range(6,0,-1):\n",
        "    for j in range (1,i):\n",
        "        print(j, end=\" \")\n",
        "\n",
        "    print(\"\\n\")"
      ],
      "metadata": {
        "colab": {
          "base_uri": "https://localhost:8080/"
        },
        "id": "J-8mOIh_AUeG",
        "outputId": "b5d5ca18-0bc1-492b-e220-61aa5c5b5a4d"
      },
      "execution_count": null,
      "outputs": [
        {
          "output_type": "stream",
          "name": "stdout",
          "text": [
            "1 2 3 4 5 \n",
            "\n",
            "1 2 3 4 \n",
            "\n",
            "1 2 3 \n",
            "\n",
            "1 2 \n",
            "\n",
            "1 \n",
            "\n",
            "\n",
            "\n"
          ]
        }
      ]
    },
    {
      "cell_type": "code",
      "source": [
        "x=5\n",
        "for i in range(5,0,-1):\n",
        "    for j in range (i,0,-1):\n",
        "        print(x, end=\" \")\n",
        "        x=x-1\n",
        "\n",
        "    print(\"\\n\")\n",
        "    x=5"
      ],
      "metadata": {
        "colab": {
          "base_uri": "https://localhost:8080/"
        },
        "id": "Jknr2KLjAYd0",
        "outputId": "a96106cd-8416-4b36-e525-66056995860a"
      },
      "execution_count": null,
      "outputs": [
        {
          "output_type": "stream",
          "name": "stdout",
          "text": [
            "5 4 3 2 1 \n",
            "\n",
            "5 4 3 2 \n",
            "\n",
            "5 4 3 \n",
            "\n",
            "5 4 \n",
            "\n",
            "5 \n",
            "\n"
          ]
        }
      ]
    },
    {
      "cell_type": "code",
      "source": [
        "x=5\n",
        "for i in range(1,6):\n",
        "    for j in range (i,0,-1):\n",
        "        print(x, end=\" \")\n",
        "        x=x-1\n",
        "\n",
        "    print(\"\\n\")\n",
        "    x=5"
      ],
      "metadata": {
        "colab": {
          "base_uri": "https://localhost:8080/"
        },
        "id": "TY3kGlRhAfYw",
        "outputId": "70cb9201-725e-4f64-c29c-18930f0138c8"
      },
      "execution_count": null,
      "outputs": [
        {
          "output_type": "stream",
          "name": "stdout",
          "text": [
            "5 \n",
            "\n",
            "5 4 \n",
            "\n",
            "5 4 3 \n",
            "\n",
            "5 4 3 2 \n",
            "\n",
            "5 4 3 2 1 \n",
            "\n"
          ]
        }
      ]
    },
    {
      "cell_type": "code",
      "source": [
        "x=1\n",
        "for i in range(1,6):\n",
        "    for j in range (i,0,-1):\n",
        "        print(x, end=\" \")\n",
        "        x=x+1\n",
        "\n",
        "    print(\"\\n\")"
      ],
      "metadata": {
        "colab": {
          "base_uri": "https://localhost:8080/"
        },
        "id": "mFG9i8T5Ag7F",
        "outputId": "e4255ec5-4703-4045-a948-174505c18238"
      },
      "execution_count": null,
      "outputs": [
        {
          "output_type": "stream",
          "name": "stdout",
          "text": [
            "1 \n",
            "\n",
            "2 3 \n",
            "\n",
            "4 5 6 \n",
            "\n",
            "7 8 9 10 \n",
            "\n",
            "11 12 13 14 15 \n",
            "\n"
          ]
        }
      ]
    },
    {
      "cell_type": "code",
      "source": [
        "for i in range(1,6):\n",
        "    for j in range (65,71-i):\n",
        "        print(chr(j), end=\" \")\n",
        "\n",
        "    print(\"\\n\")"
      ],
      "metadata": {
        "colab": {
          "base_uri": "https://localhost:8080/"
        },
        "id": "fxcsdBZkAo0I",
        "outputId": "7f63946f-497a-4c64-defa-0fd8d6380343"
      },
      "execution_count": null,
      "outputs": [
        {
          "output_type": "stream",
          "name": "stdout",
          "text": [
            "A B C D E \n",
            "\n",
            "A B C D \n",
            "\n",
            "A B C \n",
            "\n",
            "A B \n",
            "\n",
            "A \n",
            "\n"
          ]
        }
      ]
    },
    {
      "cell_type": "code",
      "source": [],
      "metadata": {
        "id": "KKS9DauoAolO"
      },
      "execution_count": null,
      "outputs": []
    }
  ]
}
